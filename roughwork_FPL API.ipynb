{
 "cells": [
  {
   "cell_type": "code",
   "execution_count": null,
   "metadata": {},
   "outputs": [],
   "source": [
    "import requests\n",
    "import pandas as pd\n",
    "import numpy as np"
   ]
  },
  {
   "cell_type": "code",
   "execution_count": null,
   "metadata": {},
   "outputs": [],
   "source": [
    "url = 'https://fantasy.premierleague.com/api/bootstrap-static/'\n",
    "r = requests.get(url)"
   ]
  },
  {
   "cell_type": "code",
   "execution_count": null,
   "metadata": {},
   "outputs": [],
   "source": [
    "json = r.json()\n",
    "json.keys()"
   ]
  },
  {
   "cell_type": "code",
   "execution_count": null,
   "metadata": {},
   "outputs": [],
   "source": [
    "with open('general.txt', 'w', encoding=\"utf-8\") as f:\n",
    "    f.write(r.text)"
   ]
  },
  {
   "cell_type": "code",
   "execution_count": null,
   "metadata": {},
   "outputs": [],
   "source": [
    "elements_df = pd.DataFrame(json['elements'])\n",
    "elements_types_df = pd.DataFrame(json['element_types'])\n",
    "teams_df = pd.DataFrame(json['teams'])"
   ]
  },
  {
   "cell_type": "code",
   "execution_count": null,
   "metadata": {},
   "outputs": [],
   "source": [
    "print(len(elements_df))\n",
    "print(len(elements_types_df))"
   ]
  },
  {
   "cell_type": "code",
   "execution_count": null,
   "metadata": {},
   "outputs": [],
   "source": [
    "elements_types_df"
   ]
  },
  {
   "cell_type": "code",
   "execution_count": null,
   "metadata": {},
   "outputs": [],
   "source": [
    "elements_df.head()"
   ]
  },
  {
   "cell_type": "code",
   "execution_count": null,
   "metadata": {},
   "outputs": [],
   "source": [
    "elements_df.columns"
   ]
  },
  {
   "cell_type": "code",
   "execution_count": null,
   "metadata": {},
   "outputs": [],
   "source": [
    "slim_elements_df = elements_df[['second_name','team','element_type','selected_by_percent','now_cost','minutes','transfers_in','value_season','total_points']]"
   ]
  },
  {
   "cell_type": "code",
   "execution_count": null,
   "metadata": {},
   "outputs": [],
   "source": [
    "slim_elements_df.head()"
   ]
  },
  {
   "cell_type": "code",
   "execution_count": null,
   "metadata": {},
   "outputs": [],
   "source": [
    "from Game import Matches\n",
    "matches = Matches()\n",
    "matches.make_fixture_list()\n",
    "#matches.fixtures_df"
   ]
  },
  {
   "cell_type": "code",
   "execution_count": null,
   "metadata": {},
   "outputs": [],
   "source": [
    "from Game import Players\n",
    "elements, _ = Players.get_general_player_info()\n",
    "elements.head"
   ]
  },
  {
   "cell_type": "code",
   "execution_count": null,
   "metadata": {},
   "outputs": [],
   "source": [
    "from Game import Players, Player\n",
    "#players = Players()\n",
    "#players.get_number_of_players()\n",
    "plyr = Player('De Bruyne')\n",
    "plyr.identifier\n",
    "#matches.fixtures_df\n",
    "df = plyr.get_Player_by_identifier()\n",
    "print(df.columns)\n",
    "df2 = df[['id', 'second_name', 'first_name', 'web_name']]\n",
    "df2"
   ]
  },
  {
   "cell_type": "code",
   "execution_count": 1,
   "metadata": {},
   "outputs": [],
   "source": [
    "from Team import MyTeam\n",
    "team = MyTeam()"
   ]
  },
  {
   "cell_type": "code",
   "execution_count": 2,
   "metadata": {},
   "outputs": [
    {
     "name": "stdout",
     "output_type": "stream",
     "text": [
      "824\n",
      "        name   id  pos\n",
      "0    Alisson  281    1\n",
      "1    Ederson  307    1\n",
      "2  Robertson  284    2\n"
     ]
    }
   ],
   "source": [
    "team.select_Player('Alisson')\n",
    "team.select_Player('Ederson')\n",
    "team.select_Player('Robertson')\n",
    "print(team.balance)\n",
    "team.print_team()\n"
   ]
  },
  {
   "cell_type": "code",
   "execution_count": 3,
   "metadata": {},
   "outputs": [
    {
     "name": "stdout",
     "output_type": "stream",
     "text": [
      "Player already Selected\n"
     ]
    }
   ],
   "source": [
    "#team.select_Player('Ederson')\n",
    "#team.select_Player('Salah')\n",
    "team.select_Player('Robertson')\n",
    "#team.select_Player('Firminho')"
   ]
  },
  {
   "cell_type": "code",
   "execution_count": 5,
   "metadata": {},
   "outputs": [
    {
     "name": "stdout",
     "output_type": "stream",
     "text": [
      "Cannot Add GK. You already have 2 Gks.\n"
     ]
    }
   ],
   "source": [
    "team.select_Player('Pickford')\n",
    "#team.team_gk_by_id\n",
    "#team.select_Player('Salah')\n",
    "#team.team_mid_by_id"
   ]
  },
  {
   "cell_type": "code",
   "execution_count": 4,
   "metadata": {},
   "outputs": [
    {
     "name": "stdout",
     "output_type": "stream",
     "text": [
      "Function ENd ['Ramsdale', 'Ederson', 'Pickford', 'Robertson']\n",
      "Player Not found. Check your identifier\n",
      "Function ENd ['Ramsdale', 'Ederson', 'Pickford', 'Robertson']\n",
      "Function ENd ['Ramsdale', 'Ederson', 'Pickford', 'Robertson', 'Fofana']\n",
      "Function ENd ['Ramsdale', 'Ederson', 'Pickford', 'Robertson', 'Fofana', 'March']\n",
      "Function ENd ['Ramsdale', 'Ederson', 'Pickford', 'Robertson', 'Fofana', 'March', 'N.Williams']\n",
      "         name   id  pos\n",
      "0    Ramsdale   15    1\n",
      "1     Ederson  307    1\n",
      "2    Pickford  182    1\n",
      "3   Robertson  284    2\n",
      "4      Fofana  272    2\n",
      "5       March  107    3\n",
      "6  N.Williams  295    2\n"
     ]
    }
   ],
   "source": [
    "team.select_Player('Robertson')\n",
    "team.select_Player('Reece')\n",
    "team.select_Player('Fofana')\n",
    "team.select_Player('March')\n",
    "team.select_Player('Neco')\n",
    "team.print_team()"
   ]
  },
  {
   "cell_type": "code",
   "execution_count": null,
   "metadata": {},
   "outputs": [],
   "source": [
    "url = 'https://fantasy.premierleague.com/api/fixtures?future=1'\n",
    "r = requests.get(url)"
   ]
  },
  {
   "cell_type": "code",
   "execution_count": null,
   "metadata": {},
   "outputs": [],
   "source": [
    "fixtures_json = r.json()\n",
    "#json.keys()"
   ]
  },
  {
   "cell_type": "code",
   "execution_count": null,
   "metadata": {},
   "outputs": [],
   "source": [
    "print(fixtures_json)"
   ]
  },
  {
   "cell_type": "code",
   "execution_count": null,
   "metadata": {},
   "outputs": [],
   "source": [
    "fixtures_df = pd.DataFrame(fixtures_json)"
   ]
  },
  {
   "cell_type": "code",
   "execution_count": null,
   "metadata": {},
   "outputs": [],
   "source": [
    "fixtures_df.head()"
   ]
  },
  {
   "cell_type": "code",
   "execution_count": null,
   "metadata": {},
   "outputs": [],
   "source": [
    "fixtures_df = fixtures_df.loc[fixtures_df['event'] == 9]\n",
    "fixtures_df"
   ]
  },
  {
   "cell_type": "code",
   "execution_count": null,
   "metadata": {},
   "outputs": [],
   "source": [
    "fixtures_df.columns"
   ]
  },
  {
   "cell_type": "code",
   "execution_count": null,
   "metadata": {},
   "outputs": [],
   "source": [
    "teams_df = teams_df.loc[:,['id', 'name']]\n",
    "teams_df"
   ]
  },
  {
   "cell_type": "code",
   "execution_count": null,
   "metadata": {},
   "outputs": [],
   "source": [
    "def make_fixture_list(teams_df, fixtures_df):\n",
    "    print(len(teams_df.columns.to_list()), len(fixtures_df.columns.to_list()))\n",
    "\n",
    "    cols = fixtures_df.columns.tolist()\n",
    "    cols = cols[:9] + cols[11:13] + cols[9:11] + cols[13:]\n",
    "    fixtures_df = fixtures_df.reindex(columns=cols)\n",
    "\n",
    "    fix = pd.merge(fixtures_df, teams_df, left_on='team_a', right_on='id', how='left').drop('id_y', axis=1)\n",
    "    fix.rename(columns={'name':'away_name', 'id_x':'id'}, inplace=True)\n",
    "\n",
    "    fix = pd.merge(fix, teams_df, left_on='team_h', right_on='id', how='left').drop('id_y', axis=1)\n",
    "    fix.rename(columns={'name':'home_name', 'id_x':'id'}, inplace=True)\n",
    "    cols = fix.columns.tolist()\n",
    "    \n",
    "    #print(len(cols))\n",
    "    #print(cols)\n",
    "    cols = cols[:10] + cols[-1:] + cols[10:11] + cols[12:13] + cols[-2:-1] + cols[11:12] + cols[13:-2]\n",
    "    fix = fix.reindex(columns=cols)\n",
    "    #print(cols)\n",
    "    #print(len(cols))\n",
    "    return fix"
   ]
  },
  {
   "cell_type": "code",
   "execution_count": null,
   "metadata": {},
   "outputs": [],
   "source": [
    "make_fixture_list(teams_df, fixtures_df)"
   ]
  },
  {
   "cell_type": "code",
   "execution_count": null,
   "metadata": {},
   "outputs": [],
   "source": []
  }
 ],
 "metadata": {
  "kernelspec": {
   "display_name": "Python 3.6.6 64-bit",
   "language": "python",
   "name": "python3"
  },
  "language_info": {
   "codemirror_mode": {
    "name": "ipython",
    "version": 3
   },
   "file_extension": ".py",
   "mimetype": "text/x-python",
   "name": "python",
   "nbconvert_exporter": "python",
   "pygments_lexer": "ipython3",
   "version": "3.6.6"
  },
  "vscode": {
   "interpreter": {
    "hash": "3f16955c0b3b2a706cad25c13483ea820f9d0d72605e2e4bcdbb21e229e5b5a4"
   }
  }
 },
 "nbformat": 4,
 "nbformat_minor": 4
}
